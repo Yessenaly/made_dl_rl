{
 "cells": [
  {
   "cell_type": "code",
   "execution_count": 1,
   "id": "ffccc0d9",
   "metadata": {},
   "outputs": [],
   "source": [
    "import gym\n",
    "\n",
    "\n",
    "import numpy as np\n",
    "from tqdm.auto import tqdm\n",
    "import matplotlib.pyplot as plt"
   ]
  },
  {
   "cell_type": "code",
   "execution_count": 2,
   "id": "033b7cbb",
   "metadata": {},
   "outputs": [],
   "source": [
    "N_ROWS, N_COLS, N_WIN = 3, 3, 3"
   ]
  },
  {
   "cell_type": "code",
   "execution_count": 3,
   "id": "86c26e18",
   "metadata": {},
   "outputs": [],
   "source": [
    "class TicTacToe(gym.Env):\n",
    "    def __init__(self, n_rows=N_ROWS, n_cols=N_COLS, n_win=N_WIN):\n",
    "        self.n_rows = n_rows\n",
    "        self.n_cols = n_cols\n",
    "        self.n_win = n_win\n",
    "\n",
    "        self.board = np.zeros((self.n_rows, self.n_cols), dtype=int)\n",
    "        self.gameOver = False\n",
    "        self.boardHash = None\n",
    "        # ход первого игрока\n",
    "        self.curTurn = 1\n",
    "        self.emptySpaces = None\n",
    "        \n",
    "        self.reset()\n",
    "\n",
    "    def getEmptySpaces(self):\n",
    "        if self.emptySpaces is None:\n",
    "            res = np.where(self.board == 0)\n",
    "            self.emptySpaces = np.array([ (i, j) for i,j in zip(res[0], res[1]) ])\n",
    "        return self.emptySpaces\n",
    "\n",
    "    def makeMove(self, player, i, j):\n",
    "        self.board[i, j] = player\n",
    "        self.emptySpaces = None\n",
    "        self.boardHash = None\n",
    "\n",
    "    def getHash(self):\n",
    "        if self.boardHash is None:\n",
    "            self.boardHash = ''.join(['%s' % (x+1) for x in self.board.reshape(self.n_rows * self.n_cols)])\n",
    "        return self.boardHash\n",
    "\n",
    "    def _check_terminal(self, cur_p):\n",
    "        cur_marks = np.where(self.board == cur_p)\n",
    "        for i,j in zip(cur_marks[0], cur_marks[1]):\n",
    "            if i <= self.n_rows - self.n_win:\n",
    "                if np.all(self.board[i:i+self.n_win, j] == cur_p):\n",
    "                    return True\n",
    "            if j <= self.n_cols - self.n_win:\n",
    "                if np.all(self.board[i,j:j+self.n_win] == cur_p):\n",
    "                    return True\n",
    "            if i <= self.n_rows - self.n_win and j <= self.n_cols - self.n_win:\n",
    "                if np.all(np.array([ self.board[i+k,j+k] == cur_p for k in range(self.n_win) ])):\n",
    "                    return True\n",
    "            if i <= self.n_rows - self.n_win and j >= self.n_win-1:\n",
    "                if np.all(np.array([ self.board[i+k,j-k] == cur_p for k in range(self.n_win) ])):\n",
    "                    return True\n",
    "        return False\n",
    "    \n",
    "    def isTerminal(self):\n",
    "        # проверим, не закончилась ли игра\n",
    "        cur_win = self._check_terminal(self.curTurn)\n",
    "        if cur_win:\n",
    "                self.gameOver = True\n",
    "                return self.curTurn\n",
    "            \n",
    "        if len(self.getEmptySpaces()) == 0:\n",
    "            self.gameOver = True\n",
    "            return 0\n",
    "\n",
    "        self.gameOver = False\n",
    "        return None\n",
    "\n",
    "    def getWinner(self):\n",
    "        # фактически запускаем isTerminal два раза для крестиков и ноликов\n",
    "        if self._check_terminal(1):\n",
    "            return 1\n",
    "        if self._check_terminal(-1):\n",
    "            return -1\n",
    "        if len(self.getEmptySpaces()) == 0:\n",
    "            return 0\n",
    "        return None\n",
    "    \n",
    "    def printBoard(self):\n",
    "        for i in range(0, self.n_rows):\n",
    "            print('----'*(self.n_cols)+'-')\n",
    "            out = '| '\n",
    "            for j in range(0, self.n_cols):\n",
    "                if self.board[i, j] == 1:\n",
    "                    token = 'x'\n",
    "                if self.board[i, j] == -1:\n",
    "                    token = 'o'\n",
    "                if self.board[i, j] == 0:\n",
    "                    token = ' '\n",
    "                out += token + ' | '\n",
    "            print(out)\n",
    "        print('----'*(self.n_cols)+'-')\n",
    "\n",
    "    def getState(self):\n",
    "        return (self.getHash(), self.getEmptySpaces(), self.curTurn)\n",
    "\n",
    "    def action_from_int(self, action_int):\n",
    "        return ( int(action_int / self.n_cols), int(action_int % self.n_cols))\n",
    "\n",
    "    def int_from_action(self, action):\n",
    "        return action[0] * self.n_cols + action[1]\n",
    "    \n",
    "    def step(self, action):\n",
    "        if self.board[action[0], action[1]] != 0:\n",
    "            return self.getState(), -10, True, {}\n",
    "        self.makeMove(self.curTurn, action[0], action[1])\n",
    "        reward = self.isTerminal()\n",
    "        self.curTurn = -self.curTurn\n",
    "        return self.getState(), 0 if reward is None else reward, reward is not None, {}\n",
    "\n",
    "    def reset(self):\n",
    "        self.board = np.zeros((self.n_rows, self.n_cols), dtype=int)\n",
    "        self.boardHash = None\n",
    "        self.gameOver = False\n",
    "        self.emptySpaces = None\n",
    "        self.curTurn = 1"
   ]
  },
  {
   "cell_type": "markdown",
   "id": "810caf47",
   "metadata": {},
   "source": [
    "### Часть первая: крестики-нолики при помощи Q-обучения\n",
    "### В коде, прилагающемся к последней лекции про обучение с подкреплением, реализован Environment для крестиков-ноликов, в котором можно при инициализации указывать разные размеры доски и условия победы, а также функции для рисования, в том числе с указанием оценки различных действий. С этим окружением все задания и связаны.\n"
   ]
  },
  {
   "cell_type": "code",
   "execution_count": 4,
   "id": "63b58da0",
   "metadata": {},
   "outputs": [],
   "source": [
    "env = TicTacToe()"
   ]
  },
  {
   "cell_type": "code",
   "execution_count": 5,
   "id": "d8ce762f",
   "metadata": {},
   "outputs": [],
   "source": [
    "def epsilon_greedy(env, Q, epsilon=0.01):\n",
    "    possible_actions = [env.int_from_action(env.getEmptySpaces()[i]) for i in range(len(env.getEmptySpaces()))]\n",
    "    \n",
    "    if env.getState()[0] not in Q.keys():\n",
    "        Q[env.getState()[0]] = np.zeros(len(possible_actions))\n",
    "        \n",
    "    if np.random.random() > epsilon:\n",
    "        return np.argmax(Q[env.getState()[0]]), possible_actions[np.argmax(Q[env.getState()[0]])]\n",
    "    else:\n",
    "        choice = np.random.choice(len(possible_actions))\n",
    "        return choice, possible_actions[choice]"
   ]
  },
  {
   "cell_type": "code",
   "execution_count": 6,
   "id": "37110a17",
   "metadata": {},
   "outputs": [],
   "source": [
    "def Q_learning_episode(strategy, env, Q, lr=0.01, gamma=1.0, crosses=1):\n",
    "    env.reset()\n",
    "    if env.curTurn != crosses:\n",
    "        possible_actions = [env.int_from_action(env.getEmptySpaces()[i]) for i in range(len(env.getEmptySpaces()))]\n",
    "        opponents_action = np.random.choice(possible_actions)\n",
    "        env.step(env.action_from_int(opponents_action))\n",
    "        \n",
    "    while True:\n",
    "        state = env.getState()[0]\n",
    "\n",
    "        q_action, action = strategy(env, Q)\n",
    "\n",
    "        _, reward, done, _ = env.step(env.action_from_int(action))\n",
    "        reward = crosses * reward\n",
    "        if done:\n",
    "            Q[state][q_action] += lr * (reward  - Q[state][q_action])\n",
    "            return reward\n",
    "\n",
    "        possible_actions = [env.int_from_action(env.getEmptySpaces()[i]) for i in range(len(env.getEmptySpaces()))]\n",
    "        opponents_action = np.random.choice(possible_actions)\n",
    "            \n",
    "        next_state_, reward, done, _ = env.step(env.action_from_int(opponents_action))\n",
    "        reward = crosses * reward\n",
    "        if done:\n",
    "            Q[state][q_action] += lr * (reward  - Q[state][q_action])\n",
    "            return reward\n",
    "            \n",
    "        next_state = next_state_[0]\n",
    "        if next_state in Q.keys():\n",
    "            Q[state][q_action] += lr * (reward + gamma * np.max(Q[next_state]) - Q[state][q_action])\n",
    "        else:\n",
    "            possible_actions = [env.int_from_action(env.getEmptySpaces()[i]) for i in range(len(env.getEmptySpaces()))]\n",
    "            Q[next_state] = np.zeros(len(possible_actions))\n",
    "            Q[state][q_action] += lr * (reward + gamma * np.max(Q[next_state]) - Q[state][q_action])"
   ]
  },
  {
   "cell_type": "code",
   "execution_count": 7,
   "id": "3bd8fb09",
   "metadata": {},
   "outputs": [],
   "source": [
    "def learn(strategy, env=TicTacToe(), n_games=int(1e5), print_step=1000, save_step=1000, crosses=1):\n",
    "    mean_game_rewards = []\n",
    "    avg_every = []\n",
    "    Q = {}\n",
    "    for i in tqdm(range(n_games)):\n",
    "        R = Q_learning_episode(strategy, env, Q, crosses=crosses)\n",
    "        avg_every.append(R)\n",
    "        if (i + 1) % print_step == 0:\n",
    "            print(\"{} games avg rewards: {}\".format(i + 1, np.mean(avg_every)))\n",
    "        if (i + 1) % save_step == 0:\n",
    "            mean_game_rewards.append(np.mean(avg_every))\n",
    "            avg_every = []\n",
    "    return Q, mean_game_rewards"
   ]
  },
  {
   "cell_type": "code",
   "execution_count": 8,
   "id": "7a345f5a",
   "metadata": {},
   "outputs": [
    {
     "data": {
      "application/vnd.jupyter.widget-view+json": {
       "model_id": "305e23aa1d854c4fb7d0bd63de61658a",
       "version_major": 2,
       "version_minor": 0
      },
      "text/plain": [
       "  0%|          | 0/100000 [00:00<?, ?it/s]"
      ]
     },
     "metadata": {},
     "output_type": "display_data"
    },
    {
     "name": "stdout",
     "output_type": "stream",
     "text": [
      "10000 games avg rewards: 0.852\n",
      "20000 games avg rewards: 0.89\n",
      "30000 games avg rewards: 0.859\n",
      "40000 games avg rewards: 0.875\n",
      "50000 games avg rewards: 0.861\n",
      "60000 games avg rewards: 0.87\n",
      "70000 games avg rewards: 0.89\n",
      "80000 games avg rewards: 0.873\n",
      "90000 games avg rewards: 0.866\n",
      "100000 games avg rewards: 0.861\n"
     ]
    },
    {
     "data": {
      "application/vnd.jupyter.widget-view+json": {
       "model_id": "529d2a24a8304d0a90d2fe66be09e79a",
       "version_major": 2,
       "version_minor": 0
      },
      "text/plain": [
       "  0%|          | 0/100000 [00:00<?, ?it/s]"
      ]
     },
     "metadata": {},
     "output_type": "display_data"
    },
    {
     "name": "stdout",
     "output_type": "stream",
     "text": [
      "10000 games avg rewards: 0.668\n",
      "20000 games avg rewards: 0.649\n",
      "30000 games avg rewards: 0.695\n",
      "40000 games avg rewards: 0.714\n",
      "50000 games avg rewards: 0.71\n",
      "60000 games avg rewards: 0.709\n",
      "70000 games avg rewards: 0.719\n",
      "80000 games avg rewards: 0.731\n",
      "90000 games avg rewards: 0.717\n",
      "100000 games avg rewards: 0.727\n"
     ]
    }
   ],
   "source": [
    "Q_crosses, rewards_q_learning_crosses = learn(epsilon_greedy, print_step=int(1e4), save_step=1000, crosses=1)\n",
    "Q_nills, rewards_q_learning_nills = learn(epsilon_greedy, print_step=int(1e4), save_step=1000, crosses=-1)"
   ]
  },
  {
   "cell_type": "code",
   "execution_count": 9,
   "id": "c57204f4",
   "metadata": {},
   "outputs": [
    {
     "data": {
      "image/png": "[encoded data removed]",
      "text/plain": [
       "<Figure size 432x288 with 1 Axes>"
      ]
     },
     "metadata": {
      "needs_background": "light"
     },
     "output_type": "display_data"
    }
   ],
   "source": [
    "plt.plot(np.array(list(range(1,101)))*1000, rewards_q_learning_crosses, label='Q learning crosses 3x3')\n",
    "plt.plot(np.array(list(range(1,101)))*1000, rewards_q_learning_nills, label='Q learning noughts 3x3')\n",
    "plt.xlabel('epoch')\n",
    "plt.ylabel('mean win rate')\n",
    "plt.legend();"
   ]
  },
  {
   "cell_type": "markdown",
   "id": "da47da73",
   "metadata": {},
   "source": [
    "### 4x4"
   ]
  },
  {
   "cell_type": "code",
   "execution_count": 10,
   "id": "1888afa7",
   "metadata": {},
   "outputs": [],
   "source": [
    "env = TicTacToe(4, 4, 4)"
   ]
  },
  {
   "cell_type": "code",
   "execution_count": 11,
   "id": "5bc5d788",
   "metadata": {},
   "outputs": [
    {
     "data": {
      "application/vnd.jupyter.widget-view+json": {
       "model_id": "4e73696ef1dc42549e271c827f674944",
       "version_major": 2,
       "version_minor": 0
      },
      "text/plain": [
       "  0%|          | 0/100000 [00:00<?, ?it/s]"
      ]
     },
     "metadata": {},
     "output_type": "display_data"
    },
    {
     "name": "stdout",
     "output_type": "stream",
     "text": [
      "10000 games avg rewards: 0.583\n",
      "20000 games avg rewards: 0.644\n",
      "30000 games avg rewards: 0.647\n",
      "40000 games avg rewards: 0.658\n",
      "50000 games avg rewards: 0.683\n",
      "60000 games avg rewards: 0.696\n",
      "70000 games avg rewards: 0.718\n",
      "80000 games avg rewards: 0.735\n",
      "90000 games avg rewards: 0.721\n",
      "100000 games avg rewards: 0.719\n"
     ]
    },
    {
     "data": {
      "application/vnd.jupyter.widget-view+json": {
       "model_id": "6a8c07ba9c4a4eed9031299b9a17e656",
       "version_major": 2,
       "version_minor": 0
      },
      "text/plain": [
       "  0%|          | 0/100000 [00:00<?, ?it/s]"
      ]
     },
     "metadata": {},
     "output_type": "display_data"
    },
    {
     "name": "stdout",
     "output_type": "stream",
     "text": [
      "10000 games avg rewards: 0.337\n",
      "20000 games avg rewards: 0.332\n",
      "30000 games avg rewards: 0.365\n",
      "40000 games avg rewards: 0.389\n",
      "50000 games avg rewards: 0.443\n",
      "60000 games avg rewards: 0.376\n",
      "70000 games avg rewards: 0.436\n",
      "80000 games avg rewards: 0.454\n",
      "90000 games avg rewards: 0.447\n",
      "100000 games avg rewards: 0.46\n"
     ]
    }
   ],
   "source": [
    "Q_crosses, rewards_q_learning_crosses = learn(epsilon_greedy, env=env, print_step=int(1e4), save_step=1000, crosses=1)\n",
    "Q_nills, rewards_q_learning_nills = learn(epsilon_greedy, env=env, print_step=int(1e4), save_step=1000, crosses=-1)"
   ]
  },
  {
   "cell_type": "code",
   "execution_count": 12,
   "id": "a1ad3730",
   "metadata": {},
   "outputs": [
    {
     "data": {
      "image/png": "[encoded data removed]",
      "text/plain": [
       "<Figure size 432x288 with 1 Axes>"
      ]
     },
     "metadata": {
      "needs_background": "light"
     },
     "output_type": "display_data"
    }
   ],
   "source": [
    "plt.plot(np.array(list(range(1,101)))*1000, rewards_q_learning_crosses, label='Q learning crosses 4x4')\n",
    "plt.plot(np.array(list(range(1,101)))*1000, rewards_q_learning_nills, label='Q learning noughts 4x4')\n",
    "plt.xlabel('epoch')\n",
    "plt.ylabel('mean win rate')\n",
    "plt.legend();"
   ]
  },
  {
   "cell_type": "markdown",
   "id": "7cbb8c79",
   "metadata": {},
   "source": [
    "### 5x5"
   ]
  },
  {
   "cell_type": "code",
   "execution_count": 13,
   "id": "f48f9033",
   "metadata": {},
   "outputs": [],
   "source": [
    "env = TicTacToe(5, 5, 5)"
   ]
  },
  {
   "cell_type": "code",
   "execution_count": 14,
   "id": "97bed660",
   "metadata": {},
   "outputs": [
    {
     "data": {
      "application/vnd.jupyter.widget-view+json": {
       "model_id": "218c3a32cdcf4230943623eabe1813a7",
       "version_major": 2,
       "version_minor": 0
      },
      "text/plain": [
       "  0%|          | 0/100000 [00:00<?, ?it/s]"
      ]
     },
     "metadata": {},
     "output_type": "display_data"
    },
    {
     "name": "stdout",
     "output_type": "stream",
     "text": [
      "10000 games avg rewards: 0.587\n",
      "20000 games avg rewards: 0.605\n",
      "30000 games avg rewards: 0.583\n",
      "40000 games avg rewards: 0.597\n",
      "50000 games avg rewards: 0.603\n",
      "60000 games avg rewards: 0.594\n",
      "70000 games avg rewards: 0.593\n",
      "80000 games avg rewards: 0.606\n",
      "90000 games avg rewards: 0.603\n",
      "100000 games avg rewards: 0.579\n"
     ]
    },
    {
     "data": {
      "application/vnd.jupyter.widget-view+json": {
       "model_id": "93ae1f862c764c6798a9b5b6e570a43e",
       "version_major": 2,
       "version_minor": 0
      },
      "text/plain": [
       "  0%|          | 0/100000 [00:00<?, ?it/s]"
      ]
     },
     "metadata": {},
     "output_type": "display_data"
    },
    {
     "name": "stdout",
     "output_type": "stream",
     "text": [
      "10000 games avg rewards: 0.248\n",
      "20000 games avg rewards: 0.27\n",
      "30000 games avg rewards: 0.238\n",
      "40000 games avg rewards: 0.283\n",
      "50000 games avg rewards: 0.274\n",
      "60000 games avg rewards: 0.331\n",
      "70000 games avg rewards: 0.286\n",
      "80000 games avg rewards: 0.224\n",
      "90000 games avg rewards: 0.242\n",
      "100000 games avg rewards: 0.212\n"
     ]
    }
   ],
   "source": [
    "Q_crosses, rewards_q_learning_crosses = learn(epsilon_greedy, env=env, print_step=int(1e4), save_step=1000, crosses=1)\n",
    "Q_nills, rewards_q_learning_nills = learn(epsilon_greedy, env=env, print_step=int(1e4), save_step=1000, crosses=-1)"
   ]
  },
  {
   "cell_type": "code",
   "execution_count": 15,
   "id": "652c1444",
   "metadata": {},
   "outputs": [
    {
     "data": {
      "image/png": "[encoded data removed]",
      "text/plain": [
       "<Figure size 432x288 with 1 Axes>"
      ]
     },
     "metadata": {
      "needs_background": "light"
     },
     "output_type": "display_data"
    }
   ],
   "source": [
    "plt.plot(np.array(list(range(1,101)))*1000, rewards_q_learning_crosses, label='Q learning crosses 5x5')\n",
    "plt.plot(np.array(list(range(1,101)))*1000, rewards_q_learning_nills, label='Q learning noughts 5x5')\n",
    "plt.xlabel('epoch')\n",
    "plt.ylabel('mean win rate')\n",
    "plt.legend();"
   ]
  },
  {
   "cell_type": "code",
   "execution_count": null,
   "id": "14e42901",
   "metadata": {},
   "outputs": [],
   "source": []
  },
  {
   "cell_type": "code",
   "execution_count": null,
   "id": "cea65e65",
   "metadata": {},
   "outputs": [],
   "source": []
  },
  {
   "cell_type": "code",
   "execution_count": null,
   "id": "19259fb9",
   "metadata": {},
   "outputs": [],
   "source": []
  }
 ],
 "metadata": {
  "kernelspec": {
   "display_name": "Python 3 (ipykernel)",
   "language": "python",
   "name": "python3"
  },
  "language_info": {
   "codemirror_mode": {
    "name": "ipython",
    "version": 3
   },
   "file_extension": ".py",
   "mimetype": "text/x-python",
   "name": "python",
   "nbconvert_exporter": "python",
   "pygments_lexer": "ipython3",
   "version": "3.10.5"
  }
 },
 "nbformat": 4,
 "nbformat_minor": 5
}
